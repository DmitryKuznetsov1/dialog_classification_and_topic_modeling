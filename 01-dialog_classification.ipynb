{
 "cells": [
  {
   "cell_type": "code",
   "execution_count": 1,
   "id": "dafc0528-0de0-463c-a831-2c0221c7d1f5",
   "metadata": {},
   "outputs": [
    {
     "name": "stderr",
     "output_type": "stream",
     "text": [
      "[nltk_data] Downloading package stopwords to\n",
      "[nltk_data]     /Users/dmitry/nltk_data...\n",
      "[nltk_data]   Package stopwords is already up-to-date!\n"
     ]
    }
   ],
   "source": [
    "import pandas as pd\n",
    "\n",
    "import nltk\n",
    "from nltk.corpus import stopwords\n",
    "\n",
    "import pymorphy2\n",
    "import re\n",
    "import matplotlib.pyplot as plt\n",
    "\n",
    "from sklearn.feature_extraction.text import TfidfVectorizer\n",
    "from sklearn.linear_model import SGDClassifier\n",
    "from sklearn.metrics import (\n",
    "    confusion_matrix,\n",
    "    ConfusionMatrixDisplay,\n",
    "    classification_report,\n",
    ")\n",
    "from sklearn.model_selection import GridSearchCV\n",
    "from sklearn.pipeline import Pipeline\n",
    "\n",
    "from utils import *\n",
    "\n",
    "nltk.download(\"stopwords\")"
   ]
  },
  {
   "cell_type": "code",
   "execution_count": 2,
   "id": "4c13cf2d-1330-406f-826e-87bada577f18",
   "metadata": {},
   "outputs": [],
   "source": [
    "df_train = pd.read_csv(\"data/train.csv\")\n",
    "df_test = pd.read_csv(\"data/test.csv\")"
   ]
  },
  {
   "cell_type": "markdown",
   "id": "12887c00-da33-46d3-b779-4c03c4372ca0",
   "metadata": {},
   "source": [
    "### Токенизация данных"
   ]
  },
  {
   "cell_type": "code",
   "execution_count": 3,
   "id": "04ee085a-acd5-48ae-8b81-87ecb39ec4bb",
   "metadata": {},
   "outputs": [],
   "source": [
    "stop_words = stopwords.words(\"russian\")\n",
    "extra_stop_words = get_stopwords_from_file(\"stopwords.txt\")\n",
    "stop_words_extended = set(stop_words + extra_stop_words)"
   ]
  },
  {
   "cell_type": "code",
   "execution_count": 4,
   "id": "95adb9db-3ceb-472b-b5f9-89936a916fce",
   "metadata": {},
   "outputs": [],
   "source": [
    "morph = pymorphy2.MorphAnalyzer()\n",
    "\n",
    "\n",
    "def process_string(input_string, morph=morph, stop_words=stop_words_extended):\n",
    "    words = re.findall(r\"\\b[а-яА-Я_]+\\b\", input_string)\n",
    "    result_string = \" \".join(\n",
    "        [\n",
    "            word if \"_\" in word else morph.parse(word)[0].normal_form\n",
    "            for word in words\n",
    "            if word not in stop_words\n",
    "        ]\n",
    "    )\n",
    "\n",
    "    return result_string\n",
    "\n",
    "\n",
    "df_train[\"text_employer\"] = df_train[\"text_employer\"].apply(process_string)\n",
    "df_test[\"text_employer\"] = df_test[\"text_employer\"].apply(process_string)"
   ]
  },
  {
   "cell_type": "markdown",
   "id": "0c76f3d0-61a1-47c6-a104-32a67c63ef47",
   "metadata": {},
   "source": [
    "## Классифкация"
   ]
  },
  {
   "cell_type": "markdown",
   "id": "606a89ce-34ad-4a47-8ab9-3044048ee6b6",
   "metadata": {},
   "source": [
    "**Модель**: TF-IDF Vectorizer + SGDClassifier. Почему?\n",
    "1. Модель показывает хорошие результаты при работе с текстом\n",
    "2. Модель имеет высокую скорость работы\n",
    "\n",
    "Следующие эксперименты направлены на улучшение ее результатов"
   ]
  },
  {
   "cell_type": "code",
   "execution_count": 5,
   "id": "98ccc00e-2908-436c-b6d8-2b07a795c16d",
   "metadata": {},
   "outputs": [],
   "source": [
    "def get_tfidf_vectorization(df_train, df_test, col):\n",
    "    tfidf_vectorizer = TfidfVectorizer()\n",
    "    X_train = tfidf_vectorizer.fit_transform(df_train[col])\n",
    "    X_test = tfidf_vectorizer.transform(df_test[col])\n",
    "\n",
    "    y_train = df_train[\"category\"]\n",
    "    y_test = df_test[\"category\"]\n",
    "    return X_train, X_test, y_train, y_test\n",
    "\n",
    "\n",
    "def get_baseline_results(df_train, df_test, col=\"text_employer\", class_weight=None):\n",
    "    X_train, X_test, y_train, y_test = get_tfidf_vectorization(\n",
    "        df_train, df_test, col=col\n",
    "    )\n",
    "\n",
    "    clf = SGDClassifier(\n",
    "        max_iter=1000, loss=\"hinge\", class_weight=class_weight, random_state=42\n",
    "    )  # SVM\n",
    "    clf.fit(X_train, y_train)\n",
    "\n",
    "    print(classification_report(y_test, clf.predict(X_test)))"
   ]
  },
  {
   "cell_type": "markdown",
   "id": "202ed92d-3327-48be-a499-877dd42bd807",
   "metadata": {},
   "source": [
    "### 1. Влияние последовательностей слов, записанных через нижнее подчеркивание"
   ]
  },
  {
   "cell_type": "code",
   "execution_count": 6,
   "id": "6fbe6613-04aa-4702-901e-ef324a5b8f2f",
   "metadata": {},
   "outputs": [
    {
     "name": "stdout",
     "output_type": "stream",
     "text": [
      "                            precision    recall  f1-score   support\n",
      "\n",
      "              Бизнес-карта       0.78      0.92      0.85      4572\n",
      "        Зарплатные проекты       0.86      0.72      0.78      2939\n",
      "Открытие банковского счета       0.72      0.64      0.68      1530\n",
      "                 Эквайринг       0.88      0.72      0.79       994\n",
      "\n",
      "                  accuracy                           0.80     10035\n",
      "                 macro avg       0.81      0.75      0.78     10035\n",
      "              weighted avg       0.81      0.80      0.80     10035\n",
      "\n"
     ]
    }
   ],
   "source": [
    "get_baseline_results(df_train, df_test, col=\"text_employer\")"
   ]
  },
  {
   "cell_type": "code",
   "execution_count": 7,
   "id": "b97dd0aa-a48e-49d0-a34b-0055a26d045d",
   "metadata": {},
   "outputs": [
    {
     "name": "stdout",
     "output_type": "stream",
     "text": [
      "                            precision    recall  f1-score   support\n",
      "\n",
      "              Бизнес-карта       0.78      0.93      0.85      4572\n",
      "        Зарплатные проекты       0.88      0.71      0.78      2939\n",
      "Открытие банковского счета       0.71      0.64      0.67      1530\n",
      "                 Эквайринг       0.87      0.72      0.79       994\n",
      "\n",
      "                  accuracy                           0.80     10035\n",
      "                 macro avg       0.81      0.75      0.77     10035\n",
      "              weighted avg       0.80      0.80      0.79     10035\n",
      "\n"
     ]
    }
   ],
   "source": [
    "df_train[\"text_employer_no_ul\"] = df_train[\"text_employer\"].apply(\n",
    "    lambda x: x.replace(\"_\", \" \")\n",
    ")\n",
    "df_test[\"text_employer_no_ul\"] = df_test[\"text_employer\"].apply(\n",
    "    lambda x: x.replace(\"_\", \" \")\n",
    ")\n",
    "\n",
    "get_baseline_results(df_train, df_test, col=\"text_employer_no_ul\")"
   ]
  },
  {
   "cell_type": "markdown",
   "id": "373fe724-e9e1-4b1b-8675-99d72120e6c3",
   "metadata": {},
   "source": [
    "**Вывод:** Векторизация способна учитывать слова как записанные слитно, так и раздельно\n",
    "\n",
    "**Далее** рассматриваю последовательности как отдельные слова"
   ]
  },
  {
   "cell_type": "markdown",
   "id": "0d4d2dca-1151-4e8f-bb2e-da6fdabe5d6f",
   "metadata": {},
   "source": [
    "### 2. Ошибки в лейблах\n",
    "Я заметил, что двольно много диалогов не содержит достаточной информации для того, чтобы их можно было верно классифицировать. Первая идея: отсеять по количеству реплик, однако существуют диалоги, состоящие из одной длинной реплики. Более стабильный критерий: количество слов. Эмпирически я установил минимальное количество слов, при котором большая часть ложных классифкаций отбрасывается: **20**"
   ]
  },
  {
   "cell_type": "code",
   "execution_count": 8,
   "id": "3cd7920d-ab23-4847-bbe3-cc23c9a09504",
   "metadata": {},
   "outputs": [
    {
     "name": "stdout",
     "output_type": "stream",
     "text": [
      "добрый_день звать сбербанк_клиентский_менеджер блок сбер бизнес звонить индивидуальный_предприниматель удобно поговорить перезвонить ориентировочно перезвонить добрый \n",
      "\n",
      "персональный сбербанк_бизнес звонить организация музалеть удобно паспорт точно торговый сбербанк хотеть уточнить операция подключить \n",
      "\n",
      "добрый_день звать звать сбербанк блок сбер бизнес звонить индивидуальный_предприниматель удобно разговаривать предложение хотеть обсудить сказать работать сотрудник штат удобный \n",
      "\n",
      "звонить индивидуальный_предприниматель удобно услышать перезвонить добрый \n",
      "\n",
      "добрый_день персональный_менеджер сбер бизнес перезванивать удобно добавить первый удобно разговаривать \n",
      "\n",
      "добрый_день перезвонить добрый \n",
      "\n",
      "здравствуйте персональный_менеджер сбербанк_бизнес ип давтянин звонить удобно честно переговорить вопрос перезвонить уточнить перезвонить добрый свидание \n",
      "\n",
      "добрый_день персональный_менеджер сбер бизнес звонить индивидуальный_предприниматель удобно разговаривать однозначно звонок удобно принять перезвонить свидание \n",
      "\n",
      "добрый_день добрый_день клиентский_менеджер_сбербанк удобно разговаривать среда какой перезвонить перезвонить февраль уделить добрый свидание \n",
      "\n",
      "добрый_день персональный_менеджер сбербанк плохо сбер бизнес звонить индивидуальный_предприниматель удобно перезвонить перезвонить добрый \n",
      "\n"
     ]
    }
   ],
   "source": [
    "for d in df_train[df_train[\"text_employer\"].apply(lambda x: len(str(x).split())) < 20][\n",
    "    \"text_employer\"\n",
    "][:10]:\n",
    "    print(d, \"\\n\")"
   ]
  },
  {
   "cell_type": "code",
   "execution_count": 9,
   "id": "c8ba4041-d017-407e-9460-735c35e10bba",
   "metadata": {},
   "outputs": [
    {
     "name": "stdout",
     "output_type": "stream",
     "text": [
      "                            precision    recall  f1-score   support\n",
      "\n",
      "              Бизнес-карта       0.96      0.97      0.96      3194\n",
      "        Зарплатные проекты       0.93      0.91      0.92      1968\n",
      "Открытие банковского счета       0.85      0.85      0.85      1018\n",
      "                 Эквайринг       0.88      0.89      0.89       744\n",
      "\n",
      "                  accuracy                           0.93      6924\n",
      "                 macro avg       0.91      0.91      0.91      6924\n",
      "              weighted avg       0.93      0.93      0.93      6924\n",
      "\n"
     ]
    }
   ],
   "source": [
    "threshold_length = 30\n",
    "df_train_mod = df_train[\n",
    "    df_train[\"text_employer\"].apply(lambda x: len(str(x).split())) > threshold_length\n",
    "]\n",
    "df_test_mod = df_test[\n",
    "    df_test[\"text_employer\"].apply(lambda x: len(str(x).split())) > threshold_length\n",
    "]\n",
    "\n",
    "get_baseline_results(df_train_mod, df_test_mod, col=\"text_employer\")"
   ]
  },
  {
   "cell_type": "code",
   "execution_count": 10,
   "id": "3b02e5b2-26e8-4f6f-a545-488638a9f1d5",
   "metadata": {},
   "outputs": [
    {
     "name": "stdout",
     "output_type": "stream",
     "text": [
      "                            precision    recall  f1-score   support\n",
      "\n",
      "              Бизнес-карта       0.91      0.96      0.94      3572\n",
      "        Зарплатные проекты       0.91      0.88      0.89      2237\n",
      "Открытие банковского счета       0.83      0.80      0.82      1127\n",
      "                 Эквайринг       0.90      0.84      0.87       816\n",
      "\n",
      "                  accuracy                           0.90      7752\n",
      "                 macro avg       0.89      0.87      0.88      7752\n",
      "              weighted avg       0.90      0.90      0.90      7752\n",
      "\n"
     ]
    }
   ],
   "source": [
    "threshold_length = 20\n",
    "df_train_mod = df_train[\n",
    "    df_train[\"text_employer\"].apply(lambda x: len(str(x).split())) > threshold_length\n",
    "]\n",
    "df_test_mod = df_test[\n",
    "    df_test[\"text_employer\"].apply(lambda x: len(str(x).split())) > threshold_length\n",
    "]\n",
    "\n",
    "get_baseline_results(df_train_mod, df_test_mod, col=\"text_employer\")"
   ]
  },
  {
   "cell_type": "markdown",
   "id": "b02bec49-c4b0-46cc-9bbf-5560d9dbeb87",
   "metadata": {},
   "source": [
    "**Выводы:** \n",
    "1. Неправильные метки сильно влияют на итоговые метрики. Возможно на инференсе стоит добавить еще один класс, который будет означать, что данных для определения недостаточно.\n",
    "2. Поиск примеров с ложными метками — отдельная задача, которая может решаться, например, с помощью:\n",
    "   * кластерного анализа\n",
    "   * анализа векторов характеристик\n",
    "   * анализа семантики предложения — наличия или отсутствия ключевых слов\n",
    "  \n",
    "**Далее** я остановился на отсечении по количеству слов в диалоге (20)"
   ]
  },
  {
   "cell_type": "markdown",
   "id": "b4df4dce-fc4b-4cb8-9baf-c925000e5d73",
   "metadata": {},
   "source": [
    "### 3. Сбалансированные веса классов"
   ]
  },
  {
   "cell_type": "code",
   "execution_count": 11,
   "id": "e976069f-bef5-40a5-ae74-5933c07ff95f",
   "metadata": {},
   "outputs": [
    {
     "name": "stdout",
     "output_type": "stream",
     "text": [
      "                            precision    recall  f1-score   support\n",
      "\n",
      "              Бизнес-карта       0.91      0.96      0.94      3572\n",
      "        Зарплатные проекты       0.91      0.88      0.89      2237\n",
      "Открытие банковского счета       0.83      0.80      0.82      1127\n",
      "                 Эквайринг       0.90      0.84      0.87       816\n",
      "\n",
      "                  accuracy                           0.90      7752\n",
      "                 macro avg       0.89      0.87      0.88      7752\n",
      "              weighted avg       0.90      0.90      0.90      7752\n",
      "\n"
     ]
    }
   ],
   "source": [
    "get_baseline_results(df_train_mod, df_test_mod, col=\"text_employer\")"
   ]
  },
  {
   "cell_type": "code",
   "execution_count": 12,
   "id": "6078adcc-5289-4199-85dc-bf42f8e39b76",
   "metadata": {},
   "outputs": [
    {
     "name": "stdout",
     "output_type": "stream",
     "text": [
      "                            precision    recall  f1-score   support\n",
      "\n",
      "              Бизнес-карта       0.96      0.92      0.94      3572\n",
      "        Зарплатные проекты       0.92      0.87      0.89      2237\n",
      "Открытие банковского счета       0.72      0.86      0.79      1127\n",
      "                 Эквайринг       0.83      0.86      0.85       816\n",
      "\n",
      "                  accuracy                           0.89      7752\n",
      "                 macro avg       0.86      0.88      0.87      7752\n",
      "              weighted avg       0.90      0.89      0.89      7752\n",
      "\n"
     ]
    }
   ],
   "source": [
    "get_baseline_results(\n",
    "    df_train_mod, df_test_mod, col=\"text_employer\", class_weight=\"balanced\"\n",
    ")"
   ]
  },
  {
   "cell_type": "markdown",
   "id": "718ed52b-5e6a-433a-84c2-866c1fa90812",
   "metadata": {},
   "source": [
    "**Вывод:** взвешивание по классам повышает recall малочисленных классов, что может быть важно\n",
    "\n",
    "**Далее** использую сбалансированный подход"
   ]
  },
  {
   "cell_type": "markdown",
   "id": "858764f0-051e-46fd-bb49-7c04fb4a1481",
   "metadata": {},
   "source": [
    "### 4. Очень простая аугментация классов"
   ]
  },
  {
   "cell_type": "markdown",
   "id": "f6c3e018-e802-4d92-b910-46f0016f477f",
   "metadata": {},
   "source": [
    "Как можно аугментировать:\n",
    "1. Сгенерировать случайные данные из распределений совокупности слов для каждого класса:\n",
    "* +: при tf-idf векторизации порядок слов слов и семантическая логика неважна, поэтому текстам необязательно быть осмысленными,\n",
    "* \\-: тексты могут получиться совсем неосмысленными, а также базовые паттерны диалогов с приветствием, представлением, прощанием и др. теряются в самом простом случае генерации\n",
    "2. Добавлять шумы в векторы td-idf:\n",
    "* +: простая реализация\n",
    "* \\-: небольшой шум создает векторы, имеющие маленькое косинусное расстояние с исходными, что будет давать слабую аугментацию, большой — напротив, может сделать примеры вовсе меняющие метку\n",
    "\n",
    "Я попробовал первый подход с очень примитивным семплированием"
   ]
  },
  {
   "cell_type": "code",
   "execution_count": 13,
   "id": "f903728b-ad11-40f9-8235-f55f8410bdba",
   "metadata": {},
   "outputs": [
    {
     "data": {
      "text/plain": [
       "('который разговаривать действовать давать понять линия вопрос возможно терминал вопрос оплата заниматься кредитный_карта оборудование рубль область сбер левый линия параметр верно отделение_банка заявка раздел руководитель индивидуальный_предприниматель отправить плохо нету актуальность сфера комиссия звать отделение_банка задать дочка усилие рассчитываться терминал прощаться владелец смочь уточнить данный бизнес возникнуть пользоваться организация конец подключать направить добрый_день комиссия верно какой линия сотрудник банк личный_кабинет инструкция сотка услуга сбербанк потребоваться установить обсудить сбер удобно большинство вопрос следующий остаться дистанционно выпустить понадобиться заявка давать хороший соединение расчётный счёт бесплатно переносить поддержка здравствуйте смотреть оборот получаться вопрос средство зависеть отметить обратиться продукт_банка наверное получить приложение день процент услуга звонить продукт посылать звонить сервисный один индивидуальный_предприниматель информация эквайринг вопрос направить физический_лицо обрабатываться банковский код сторона оформить правильно операционный торговый_эквайринг платёж выбрать перезвонить буквально мочь буквально выписка вопрос расчётный',\n",
       " 'Эквайринг')"
      ]
     },
     "execution_count": 13,
     "metadata": {},
     "output_type": "execute_result"
    }
   ],
   "source": [
    "df_augmented = augment_data(\n",
    "    df_train_mod, text_col=\"text_employer\", min_words=20, max_words=160\n",
    ")\n",
    "df_augmented[\"text_employer\"].iloc[-1], df_augmented[\"category\"].iloc[-1]"
   ]
  },
  {
   "cell_type": "code",
   "execution_count": 14,
   "id": "08bceec5-dc3d-4e2b-bc85-b8fedeaf16b6",
   "metadata": {},
   "outputs": [
    {
     "name": "stdout",
     "output_type": "stream",
     "text": [
      "                            precision    recall  f1-score   support\n",
      "\n",
      "              Бизнес-карта       0.94      0.93      0.93      3572\n",
      "        Зарплатные проекты       0.92      0.86      0.89      2237\n",
      "Открытие банковского счета       0.76      0.84      0.80      1127\n",
      "                 Эквайринг       0.84      0.86      0.85       816\n",
      "\n",
      "                  accuracy                           0.89      7752\n",
      "                 macro avg       0.86      0.87      0.87      7752\n",
      "              weighted avg       0.89      0.89      0.89      7752\n",
      "\n"
     ]
    }
   ],
   "source": [
    "get_baseline_results(df_augmented, df_test_mod, col=\"text_employer\")"
   ]
  },
  {
   "cell_type": "markdown",
   "id": "ed4e8688-b677-4e5e-af29-dd4d707b12ff",
   "metadata": {},
   "source": [
    "**Вывод** результат на самом деле удивил — небольшое отклонение в метриках, решение получилось двольно авантюрным\n",
    "\n",
    "**Далее** я решил не использовать этот метод"
   ]
  },
  {
   "cell_type": "markdown",
   "id": "74b72478-cea7-4141-a109-476a91cd6342",
   "metadata": {},
   "source": [
    "### 5. GridSearch по параметрам TfidfVectorizer и SGDClassifier"
   ]
  },
  {
   "cell_type": "code",
   "execution_count": 15,
   "id": "703f67f4-2d31-4631-abad-4e2c1b070b22",
   "metadata": {},
   "outputs": [],
   "source": [
    "param_grid = {\n",
    "    \"tfidf__max_features\": [500, 1000, 2000, 5000],\n",
    "    \"tfidf__norm\": [\"l1\", \"l2\"],\n",
    "    \"tfidf__ngram_range\": [(1, 1), (1, 3)],\n",
    "    \"classifier__penalty\": [\"l2\", \"l1\", \"elasticnet\", None],\n",
    "    \"classifier__loss\": [\"hinge\", \"log_loss\", \"modified_huber\"],\n",
    "}"
   ]
  },
  {
   "cell_type": "code",
   "execution_count": 16,
   "id": "19022f8d-dd0d-4327-90ea-a4d0143d7997",
   "metadata": {},
   "outputs": [
    {
     "name": "stdout",
     "output_type": "stream",
     "text": [
      "Fitting 2 folds for each of 192 candidates, totalling 384 fits\n"
     ]
    },
    {
     "name": "stderr",
     "output_type": "stream",
     "text": [
      "/Users/dmitry/PycharmProjects/skbt_test/venv/lib/python3.10/site-packages/joblib/externals/loky/process_executor.py:752: UserWarning: A worker stopped while some jobs were given to the executor. This can be caused by a too short worker timeout or by a memory leak.\n",
      "  warnings.warn(\n"
     ]
    },
    {
     "data": {
      "text/html": [
       "<style>#sk-container-id-1 {color: black;}#sk-container-id-1 pre{padding: 0;}#sk-container-id-1 div.sk-toggleable {background-color: white;}#sk-container-id-1 label.sk-toggleable__label {cursor: pointer;display: block;width: 100%;margin-bottom: 0;padding: 0.3em;box-sizing: border-box;text-align: center;}#sk-container-id-1 label.sk-toggleable__label-arrow:before {content: \"▸\";float: left;margin-right: 0.25em;color: #696969;}#sk-container-id-1 label.sk-toggleable__label-arrow:hover:before {color: black;}#sk-container-id-1 div.sk-estimator:hover label.sk-toggleable__label-arrow:before {color: black;}#sk-container-id-1 div.sk-toggleable__content {max-height: 0;max-width: 0;overflow: hidden;text-align: left;background-color: #f0f8ff;}#sk-container-id-1 div.sk-toggleable__content pre {margin: 0.2em;color: black;border-radius: 0.25em;background-color: #f0f8ff;}#sk-container-id-1 input.sk-toggleable__control:checked~div.sk-toggleable__content {max-height: 200px;max-width: 100%;overflow: auto;}#sk-container-id-1 input.sk-toggleable__control:checked~label.sk-toggleable__label-arrow:before {content: \"▾\";}#sk-container-id-1 div.sk-estimator input.sk-toggleable__control:checked~label.sk-toggleable__label {background-color: #d4ebff;}#sk-container-id-1 div.sk-label input.sk-toggleable__control:checked~label.sk-toggleable__label {background-color: #d4ebff;}#sk-container-id-1 input.sk-hidden--visually {border: 0;clip: rect(1px 1px 1px 1px);clip: rect(1px, 1px, 1px, 1px);height: 1px;margin: -1px;overflow: hidden;padding: 0;position: absolute;width: 1px;}#sk-container-id-1 div.sk-estimator {font-family: monospace;background-color: #f0f8ff;border: 1px dotted black;border-radius: 0.25em;box-sizing: border-box;margin-bottom: 0.5em;}#sk-container-id-1 div.sk-estimator:hover {background-color: #d4ebff;}#sk-container-id-1 div.sk-parallel-item::after {content: \"\";width: 100%;border-bottom: 1px solid gray;flex-grow: 1;}#sk-container-id-1 div.sk-label:hover label.sk-toggleable__label {background-color: #d4ebff;}#sk-container-id-1 div.sk-serial::before {content: \"\";position: absolute;border-left: 1px solid gray;box-sizing: border-box;top: 0;bottom: 0;left: 50%;z-index: 0;}#sk-container-id-1 div.sk-serial {display: flex;flex-direction: column;align-items: center;background-color: white;padding-right: 0.2em;padding-left: 0.2em;position: relative;}#sk-container-id-1 div.sk-item {position: relative;z-index: 1;}#sk-container-id-1 div.sk-parallel {display: flex;align-items: stretch;justify-content: center;background-color: white;position: relative;}#sk-container-id-1 div.sk-item::before, #sk-container-id-1 div.sk-parallel-item::before {content: \"\";position: absolute;border-left: 1px solid gray;box-sizing: border-box;top: 0;bottom: 0;left: 50%;z-index: -1;}#sk-container-id-1 div.sk-parallel-item {display: flex;flex-direction: column;z-index: 1;position: relative;background-color: white;}#sk-container-id-1 div.sk-parallel-item:first-child::after {align-self: flex-end;width: 50%;}#sk-container-id-1 div.sk-parallel-item:last-child::after {align-self: flex-start;width: 50%;}#sk-container-id-1 div.sk-parallel-item:only-child::after {width: 0;}#sk-container-id-1 div.sk-dashed-wrapped {border: 1px dashed gray;margin: 0 0.4em 0.5em 0.4em;box-sizing: border-box;padding-bottom: 0.4em;background-color: white;}#sk-container-id-1 div.sk-label label {font-family: monospace;font-weight: bold;display: inline-block;line-height: 1.2em;}#sk-container-id-1 div.sk-label-container {text-align: center;}#sk-container-id-1 div.sk-container {/* jupyter's `normalize.less` sets `[hidden] { display: none; }` but bootstrap.min.css set `[hidden] { display: none !important; }` so we also need the `!important` here to be able to override the default hidden behavior on the sphinx rendered scikit-learn.org. See: https://github.com/scikit-learn/scikit-learn/issues/21755 */display: inline-block !important;position: relative;}#sk-container-id-1 div.sk-text-repr-fallback {display: none;}</style><div id=\"sk-container-id-1\" class=\"sk-top-container\"><div class=\"sk-text-repr-fallback\"><pre>GridSearchCV(cv=2,\n",
       "             estimator=Pipeline(steps=[(&#x27;tfidf&#x27;, TfidfVectorizer()),\n",
       "                                       (&#x27;classifier&#x27;,\n",
       "                                        SGDClassifier(class_weight=&#x27;balanced&#x27;,\n",
       "                                                      random_state=42))]),\n",
       "             n_jobs=5,\n",
       "             param_grid={&#x27;classifier__loss&#x27;: [&#x27;hinge&#x27;, &#x27;log_loss&#x27;,\n",
       "                                              &#x27;modified_huber&#x27;],\n",
       "                         &#x27;classifier__penalty&#x27;: [&#x27;l2&#x27;, &#x27;l1&#x27;, &#x27;elasticnet&#x27;,\n",
       "                                                 None],\n",
       "                         &#x27;tfidf__max_features&#x27;: [500, 1000, 2000, 5000],\n",
       "                         &#x27;tfidf__ngram_range&#x27;: [(1, 1), (1, 3)],\n",
       "                         &#x27;tfidf__norm&#x27;: [&#x27;l1&#x27;, &#x27;l2&#x27;]},\n",
       "             scoring=&#x27;accuracy&#x27;, verbose=1)</pre><b>In a Jupyter environment, please rerun this cell to show the HTML representation or trust the notebook. <br />On GitHub, the HTML representation is unable to render, please try loading this page with nbviewer.org.</b></div><div class=\"sk-container\" hidden><div class=\"sk-item sk-dashed-wrapped\"><div class=\"sk-label-container\"><div class=\"sk-label sk-toggleable\"><input class=\"sk-toggleable__control sk-hidden--visually\" id=\"sk-estimator-id-1\" type=\"checkbox\" ><label for=\"sk-estimator-id-1\" class=\"sk-toggleable__label sk-toggleable__label-arrow\">GridSearchCV</label><div class=\"sk-toggleable__content\"><pre>GridSearchCV(cv=2,\n",
       "             estimator=Pipeline(steps=[(&#x27;tfidf&#x27;, TfidfVectorizer()),\n",
       "                                       (&#x27;classifier&#x27;,\n",
       "                                        SGDClassifier(class_weight=&#x27;balanced&#x27;,\n",
       "                                                      random_state=42))]),\n",
       "             n_jobs=5,\n",
       "             param_grid={&#x27;classifier__loss&#x27;: [&#x27;hinge&#x27;, &#x27;log_loss&#x27;,\n",
       "                                              &#x27;modified_huber&#x27;],\n",
       "                         &#x27;classifier__penalty&#x27;: [&#x27;l2&#x27;, &#x27;l1&#x27;, &#x27;elasticnet&#x27;,\n",
       "                                                 None],\n",
       "                         &#x27;tfidf__max_features&#x27;: [500, 1000, 2000, 5000],\n",
       "                         &#x27;tfidf__ngram_range&#x27;: [(1, 1), (1, 3)],\n",
       "                         &#x27;tfidf__norm&#x27;: [&#x27;l1&#x27;, &#x27;l2&#x27;]},\n",
       "             scoring=&#x27;accuracy&#x27;, verbose=1)</pre></div></div></div><div class=\"sk-parallel\"><div class=\"sk-parallel-item\"><div class=\"sk-item\"><div class=\"sk-label-container\"><div class=\"sk-label sk-toggleable\"><input class=\"sk-toggleable__control sk-hidden--visually\" id=\"sk-estimator-id-2\" type=\"checkbox\" ><label for=\"sk-estimator-id-2\" class=\"sk-toggleable__label sk-toggleable__label-arrow\">estimator: Pipeline</label><div class=\"sk-toggleable__content\"><pre>Pipeline(steps=[(&#x27;tfidf&#x27;, TfidfVectorizer()),\n",
       "                (&#x27;classifier&#x27;,\n",
       "                 SGDClassifier(class_weight=&#x27;balanced&#x27;, random_state=42))])</pre></div></div></div><div class=\"sk-serial\"><div class=\"sk-item\"><div class=\"sk-serial\"><div class=\"sk-item\"><div class=\"sk-estimator sk-toggleable\"><input class=\"sk-toggleable__control sk-hidden--visually\" id=\"sk-estimator-id-3\" type=\"checkbox\" ><label for=\"sk-estimator-id-3\" class=\"sk-toggleable__label sk-toggleable__label-arrow\">TfidfVectorizer</label><div class=\"sk-toggleable__content\"><pre>TfidfVectorizer()</pre></div></div></div><div class=\"sk-item\"><div class=\"sk-estimator sk-toggleable\"><input class=\"sk-toggleable__control sk-hidden--visually\" id=\"sk-estimator-id-4\" type=\"checkbox\" ><label for=\"sk-estimator-id-4\" class=\"sk-toggleable__label sk-toggleable__label-arrow\">SGDClassifier</label><div class=\"sk-toggleable__content\"><pre>SGDClassifier(class_weight=&#x27;balanced&#x27;, random_state=42)</pre></div></div></div></div></div></div></div></div></div></div></div></div>"
      ],
      "text/plain": [
       "GridSearchCV(cv=2,\n",
       "             estimator=Pipeline(steps=[('tfidf', TfidfVectorizer()),\n",
       "                                       ('classifier',\n",
       "                                        SGDClassifier(class_weight='balanced',\n",
       "                                                      random_state=42))]),\n",
       "             n_jobs=5,\n",
       "             param_grid={'classifier__loss': ['hinge', 'log_loss',\n",
       "                                              'modified_huber'],\n",
       "                         'classifier__penalty': ['l2', 'l1', 'elasticnet',\n",
       "                                                 None],\n",
       "                         'tfidf__max_features': [500, 1000, 2000, 5000],\n",
       "                         'tfidf__ngram_range': [(1, 1), (1, 3)],\n",
       "                         'tfidf__norm': ['l1', 'l2']},\n",
       "             scoring='accuracy', verbose=1)"
      ]
     },
     "execution_count": 16,
     "metadata": {},
     "output_type": "execute_result"
    }
   ],
   "source": [
    "pipeline = Pipeline(\n",
    "    [\n",
    "        (\"tfidf\", TfidfVectorizer()),\n",
    "        (\"classifier\", SGDClassifier(class_weight=\"balanced\", random_state=42)),\n",
    "    ]\n",
    ")\n",
    "\n",
    "grid_search = GridSearchCV(\n",
    "    pipeline, param_grid, cv=2, scoring=\"accuracy\", verbose=1, n_jobs=5\n",
    ")\n",
    "grid_search.fit(df_train_mod[\"text_employer\"], df_train_mod[\"category\"])"
   ]
  },
  {
   "cell_type": "code",
   "execution_count": 17,
   "id": "c10aeaa8-8c6e-4b63-99cc-62f53d51dd70",
   "metadata": {},
   "outputs": [
    {
     "name": "stdout",
     "output_type": "stream",
     "text": [
      "Лучшие параметры: {'classifier__loss': 'modified_huber', 'classifier__penalty': None, 'tfidf__max_features': 5000, 'tfidf__ngram_range': (1, 3), 'tfidf__norm': 'l1'}\n"
     ]
    }
   ],
   "source": [
    "print(\"Лучшие параметры:\", grid_search.best_params_)"
   ]
  },
  {
   "cell_type": "code",
   "execution_count": 18,
   "id": "7945b8ea-e000-411d-b4e6-aa0896d9f89a",
   "metadata": {},
   "outputs": [
    {
     "name": "stdout",
     "output_type": "stream",
     "text": [
      "                            precision    recall  f1-score   support\n",
      "\n",
      "              Бизнес-карта       0.92      0.95      0.93      3572\n",
      "        Зарплатные проекты       0.90      0.88      0.89      2237\n",
      "Открытие банковского счета       0.83      0.81      0.82      1127\n",
      "                 Эквайринг       0.89      0.82      0.86       816\n",
      "\n",
      "                  accuracy                           0.90      7752\n",
      "                 macro avg       0.88      0.87      0.87      7752\n",
      "              weighted avg       0.90      0.90      0.90      7752\n",
      "\n"
     ]
    }
   ],
   "source": [
    "best_model = grid_search.best_estimator_\n",
    "best_model.fit(df_augmented[\"text_employer\"], df_augmented[\"category\"])\n",
    "\n",
    "# Оценка модели на тестовых данных\n",
    "y_pred = best_model.predict(df_test_mod[\"text_employer\"])\n",
    "print(classification_report(df_test_mod[\"category\"], y_pred))"
   ]
  },
  {
   "cell_type": "code",
   "execution_count": 19,
   "id": "ae18acfb-ffd6-45be-8bfc-1f5f25cb7357",
   "metadata": {},
   "outputs": [
    {
     "data": {
      "image/png": "[encoded data removed]",
      "text/plain": [
       "<Figure size 640x480 with 2 Axes>"
      ]
     },
     "metadata": {},
     "output_type": "display_data"
    }
   ],
   "source": [
    "cm = confusion_matrix(df_test_mod[\"category\"], y_pred, labels=best_model.classes_)\n",
    "disp = ConfusionMatrixDisplay(confusion_matrix=cm, display_labels=best_model.classes_)\n",
    "\n",
    "disp.plot(cmap=plt.cm.Blues, xticks_rotation=45)\n",
    "plt.show()"
   ]
  },
  {
   "cell_type": "markdown",
   "id": "8ea5a85b-1b1c-43ec-9a48-fd8cdceb54a0",
   "metadata": {},
   "source": [
    "## Что дальше?"
   ]
  },
  {
   "cell_type": "markdown",
   "id": "bd5a80b8-0f71-4428-a0b6-f8fed90af8a9",
   "metadata": {},
   "source": [
    "Дальше нужно смотреть, на каких примерах модель ошибается, чтобы понять почему. Можно рассмотреть и дргуие подходы к векторизации, а также использовать нелинейные модели классификации"
   ]
  },
  {
   "cell_type": "code",
   "execution_count": 20,
   "id": "2ab6d38f-855d-4875-8d77-0fe16b8ee98a",
   "metadata": {},
   "outputs": [
    {
     "name": "stderr",
     "output_type": "stream",
     "text": [
      "/var/folders/fm/2896yrmn581cyl4g1mqkzj_r0000gn/T/ipykernel_13441/3781991859.py:1: SettingWithCopyWarning: \n",
      "A value is trying to be set on a copy of a slice from a DataFrame.\n",
      "Try using .loc[row_indexer,col_indexer] = value instead\n",
      "\n",
      "See the caveats in the documentation: https://pandas.pydata.org/pandas-docs/stable/user_guide/indexing.html#returning-a-view-versus-a-copy\n",
      "  df_test_mod['pred'] = y_pred\n"
     ]
    }
   ],
   "source": [
    "df_test_mod[\"pred\"] = y_pred\n",
    "df_cls_errors = df_test_mod[df_test_mod[\"pred\"] != df_test_mod[\"category\"]][\n",
    "    [\"text_employer\", \"category\", \"pred\"]\n",
    "]"
   ]
  },
  {
   "cell_type": "code",
   "execution_count": 21,
   "id": "c6ae48f6-10e5-4cb7-a5c1-63799bda10dc",
   "metadata": {},
   "outputs": [
    {
     "name": "stdout",
     "output_type": "stream",
     "text": [
      "добрый_день бизнес персональный_менеджер организация спектр звонить удобно беседовать верно побеседовать вопрос банковский обслуживание подсказать последний цифра номер указать ноль какой номер связаться хороший понять информация хороший продолжение день желать добрый свидание \n",
      " Бизнес-карта - Открытие банковского счета\n"
     ]
    }
   ],
   "source": [
    "for i, row in df_cls_errors[:1].iterrows():\n",
    "    print(row.text_employer, \"\\n\", row.category, \"-\", row.pred)"
   ]
  },
  {
   "cell_type": "code",
   "execution_count": 22,
   "id": "abbadcb8-eb2a-469d-a482-b8d2c763d0cc",
   "metadata": {},
   "outputs": [],
   "source": [
    "df_cls_errors.to_csv(\"df_cls_errors.csv\")"
   ]
  },
  {
   "cell_type": "code",
   "execution_count": 24,
   "id": "5d785234-b6c4-4f41-99c4-e4d610f801c1",
   "metadata": {},
   "outputs": [],
   "source": [
    "import pickle\n",
    "\n",
    "pickle.dump(best_model, open(\"best_classifier.sav\", \"wb\"))"
   ]
  },
  {
   "cell_type": "code",
   "execution_count": null,
   "id": "d2326e75-d9db-4e7a-9fce-4a5fbce57f37",
   "metadata": {},
   "outputs": [],
   "source": []
  }
 ],
 "metadata": {
  "kernelspec": {
   "display_name": "Python 3 (ipykernel)",
   "language": "python",
   "name": "python3"
  },
  "language_info": {
   "codemirror_mode": {
    "name": "ipython",
    "version": 3
   },
   "file_extension": ".py",
   "mimetype": "text/x-python",
   "name": "python",
   "nbconvert_exporter": "python",
   "pygments_lexer": "ipython3",
   "version": "3.10.9"
  }
 },
 "nbformat": 4,
 "nbformat_minor": 5
}
